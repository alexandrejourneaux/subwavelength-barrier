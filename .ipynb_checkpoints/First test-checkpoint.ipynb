{
 "cells": [
  {
   "cell_type": "code",
   "execution_count": 30,
   "id": "157557dc",
   "metadata": {},
   "outputs": [],
   "source": [
    "import numpy as np\n",
    "import matplotlib.pyplot as plt\n",
    "import matplotlib\n",
    "from scipy.linalg import block_diag\n",
    "from numpy.linalg import eigh\n",
    "\n",
    "from scipy.constants import hbar, physical_constants"
   ]
  },
  {
   "cell_type": "markdown",
   "id": "8d38f03d",
   "metadata": {},
   "source": [
    "We work in reduced units, defining the recoil wavevector as $k_\\text{rec} = 2 \\pi / \\lambda$, where $\\lambda$ is the studied transition’s wavelength: \n",
    " - $\\tilde{x} = k_\\text{rec} x$\n",
    " - $\\tilde{E} = \\frac{E}{E_\\text{rec}}$ where $E_\\text{rec} = \\frac{\\hbar^2 k_\\text{rec}^2}{2  m}$\n",
    " - $\\tilde{\\omega} = \\frac{\\hbar \\omega}{E_\\text{rec}}$.\n",
    " \n",
    "We compute these factors here if we want to come back to SI units in the future."
   ]
  },
  {
   "cell_type": "code",
   "execution_count": 31,
   "id": "9ee92eb0",
   "metadata": {},
   "outputs": [],
   "source": [
    "lambda0 = 626e-9 #m\n",
    "m_Dy = 162.5 * physical_constants[\"atomic mass constant\"][0]\n",
    "k_rec = 2*np.pi/lambda0\n",
    "E_rec = hbar**2 * k_rec**2 / (2 * m_Dy)"
   ]
  },
  {
   "cell_type": "markdown",
   "id": "48d0c722",
   "metadata": {},
   "source": [
    "# Definition of the problem"
   ]
  },
  {
   "cell_type": "markdown",
   "id": "51337fa9",
   "metadata": {},
   "source": [
    "We consider a $\\Lambda$ configuration with two ground states $|g_1\\rangle$ and $|g_2\\rangle$ and an excited state $|e\\rangle$. Two laser beams couple the ground states to the excited state with Rabi frequencies $\\Omega_c$ and $\\Omega_p$, where $\\Omega_c(x)$ depends on the position.\n",
    "\n",
    "$\\hat{H} = \\frac{\\hat{p}}{2 m} + (\\omega_{g_1} - \\omega_{g_2}) |g_2\\rangle \\langle g_2| + \\omega_{g_1} |e\\rangle \\langle e| \\\\ + \\Omega_c(x) \\cos((\\omega_{g_1} - \\delta_{g_1}) t) (|g_1\\rangle \\langle e| + |e\\rangle \\langle g_1|) \\\\ + \\Omega_p \\cos((\\omega_{g_2} - \\delta_{g_2}) t) (|g_2\\rangle \\langle e| + |e\\rangle \\langle g_2|)$"
   ]
  },
  {
   "cell_type": "markdown",
   "id": "9f1b6432",
   "metadata": {},
   "source": [
    "# Born Oppenheimer Hamiltonian: existence of a dark state"
   ]
  },
  {
   "cell_type": "markdown",
   "id": "06b6aa54",
   "metadata": {},
   "source": [
    "In a first part, we study the Hamiltonian in the rotating wave approximation (RWA). The resulting time-independent Hamiltonian reads:\n",
    "\n",
    "$\\hat{H} = \\frac{\\hat{p}}{2 m} + \\delta/2 (|g_2\\rangle \\langle g_2| - |g_1\\rangle \\langle g_1|) + \\Delta |e\\rangle \\langle e| \\\\\n",
    "+ \\Omega_c(x)/2 (|g_1\\rangle \\langle e| + |e\\rangle \\langle g_1|) \\\\\n",
    "+ \\Omega_p/2 (|g_2\\rangle \\langle e| + |e\\rangle \\langle g_2|)$\n",
    "\n",
    "We set $\\hat{p} = 0$, placing ourselves in the Born-Oppenheimer approximation: we will see that this approximation is false, which will give rise to the sub-wavelength barrier.\n",
    "\n",
    "We write the Hamiltonian in the base $|g_1\\rangle$, $|g_2\\rangle$, $|e\\rangle$. For now we suppose the Raman resonance condition $\\delta = 0$, and set a detuning $\\Delta \\neq 0$."
   ]
  },
  {
   "cell_type": "code",
   "execution_count": 32,
   "id": "6dce0a1e",
   "metadata": {},
   "outputs": [],
   "source": [
    "def H_RWA(delta, Delta, wc, wp):\n",
    "    return np.array([[-delta/2, 0, wc/2],\n",
    "                     [0, delta/2, wp/2],\n",
    "                     [wc/2, wp/2, Delta]])\n",
    "\n",
    "#def w_mean(wp, wc):\n",
    "#    return np.sqrt(wp**2 + wc**2)\n",
    "\n",
    "#def D(wc, wp):\n",
    "#    return (1/w_mean(wp, wc)) * np.transpose(np.array([wp, -wc, 0]))\n",
    "\n",
    "\n",
    "#def B():\n",
    "#    return (1/np.sqrt(2)) * (plus() + minus())\n"
   ]
  },
  {
   "cell_type": "markdown",
   "id": "8611b0e6",
   "metadata": {},
   "source": [
    "### Example of the optical lattice"
   ]
  },
  {
   "cell_type": "markdown",
   "id": "b7bac91e",
   "metadata": {},
   "source": [
    "The simplest position dependency for $\\Omega_c$ is the case of an optical lattice, where $\\Omega_c(x) = \\Omega_{c0} \\sin(k x)$."
   ]
  },
  {
   "cell_type": "code",
   "execution_count": 33,
   "id": "16f0105f",
   "metadata": {},
   "outputs": [],
   "source": [
    "def wc(x, k, wc0):\n",
    "    return wc0 * np.sin(k*x)\n",
    "\n",
    "def dx_wc(x, k, wc0):\n",
    "    return wc0 * k * np.cos(k*x)"
   ]
  },
  {
   "cell_type": "markdown",
   "id": "68961492",
   "metadata": {},
   "source": [
    "We compute the eigenstates of the Hamiltonian for different positions for $k = k_\\text{rec}$ for different values of $\\epsilon = \\Omega_p / \\Omega_{c0}$:"
   ]
  },
  {
   "cell_type": "code",
   "execution_count": 34,
   "id": "25ccd03d",
   "metadata": {},
   "outputs": [],
   "source": [
    "eps = 0.1\n",
    "Delta = 0\n",
    "k = 1\n",
    "x_array = np.linspace(-4, 4, 1000)\n",
    "wc_array = np.array([wc(x, k, 1) for x in x_array])\n",
    "wp = eps\n",
    "\n",
    "eigvals = np.empty((len(x_array), 3), dtype=float)\n",
    "eigvects = np.empty((len(x_array), 3, 3), dtype=complex)\n",
    "for i, x in enumerate(x_array):\n",
    "    eigvals[i,...], eigvects[i,...] = np.linalg.eigh(H_RWA(0, Delta, wc_array[i], wp))"
   ]
  },
  {
   "cell_type": "code",
   "execution_count": 35,
   "id": "f5a97e83",
   "metadata": {},
   "outputs": [
    {
     "data": {
      "text/plain": [
       "[<matplotlib.lines.Line2D at 0x2c8d9f214f0>]"
      ]
     },
     "execution_count": 35,
     "metadata": {},
     "output_type": "execute_result"
    },
    {
     "data": {
      "image/png": "[encoded data removed]",
      "text/plain": [
       "<Figure size 432x288 with 1 Axes>"
      ]
     },
     "metadata": {
      "needs_background": "light"
     },
     "output_type": "display_data"
    }
   ],
   "source": [
    "plt.plot(x_array, eigvals[:,0])\n",
    "plt.plot(x_array, eigvals[:,1])\n",
    "plt.plot(x_array, eigvals[:,2])"
   ]
  },
  {
   "cell_type": "markdown",
   "id": "6fce8093",
   "metadata": {},
   "source": [
    "We can now show that the state of intermediate energy $| \\Psi_2 \\rangle$ is a dark state: it is decoupled from $|e\\rangle$. The analytical expression of this dark state is $| \\Psi_2 \\rangle = \\frac{1}{\\overline{\\Omega}} \\Omega_p |g_1\\rangle - \\Omega_c |g_2\\rangle$ and it has zero energy (for $\\delta=0$ !) ."
   ]
  },
  {
   "cell_type": "code",
   "execution_count": 36,
   "id": "894baf6c",
   "metadata": {},
   "outputs": [
    {
     "data": {
      "text/plain": [
       "<matplotlib.legend.Legend at 0x2c8d9e3e640>"
      ]
     },
     "execution_count": 36,
     "metadata": {},
     "output_type": "execute_result"
    },
    {
     "data": {
      "image/png": "[encoded data removed]",
      "text/plain": [
       "<Figure size 432x288 with 1 Axes>"
      ]
     },
     "metadata": {
      "needs_background": "light"
     },
     "output_type": "display_data"
    }
   ],
   "source": [
    "for i, state in enumerate([\"g1\", \"g2\", \"e\"]):\n",
    "    plt.plot(x_array, np.square(np.abs(eigvects[:, i, 1])), label=rf\"$ \\| \\langle$ {state} $| \\Psi_2 \\rangle \\| ^2$\")\n",
    "\n",
    "plt.title(r\"Projection of $\\Psi_2$ on each basis state vs position\")\n",
    "plt.legend()"
   ]
  },
  {
   "cell_type": "markdown",
   "id": "5b32c6da",
   "metadata": {},
   "source": [
    "We can see that the dark state is mostly composed of $|g_2\\rangle$ away from the zeros of $\\Omega_c(x)$, and it \"twists\" to $|g_1\\rangle$ on a layer of width proportional to $\\epsilon$.\n",
    "\n",
    "We denote the dark state $|D(x)\\rangle$ and the lower and higher energy bright states respectively $|-(x)\\rangle$ and $|+(x)\\rangle$."
   ]
  },
  {
   "cell_type": "markdown",
   "id": "64d919e7",
   "metadata": {},
   "source": [
    "# Effective potential in the dark state basis, $\\Delta = 0$"
   ]
  },
  {
   "cell_type": "markdown",
   "id": "954c723d",
   "metadata": {},
   "source": [
    "In the spirit of what Jendrzejewski does, we express the Hamiltonian in the basis $ \\{ |\\tilde{D}\\rangle, |\\tilde{-}\\rangle, |\\tilde{+}\\rangle \\}$ where $|\\tilde{\\psi}\\rangle \\ = | \\psi (x_0) \\rangle $ with $x_0$ a fixed position, applying to our hamiltonian the following unitary transformation:\n",
    "\n",
    "$R^\\dagger =  |\\tilde{D}\\rangle \\langle D(x) | + |\\tilde{-}\\rangle \\langle -(x) | + |\\tilde{+}\\rangle \\langle +(x) |$\n",
    "\n",
    "Let’s introduce the state $|B\\rangle = 1/\\sqrt{2} (|+\\rangle + |-\\rangle)$\n",
    "\n",
    "The new Hamiltonian is then:\n",
    "\n",
    "$H’ = \\frac{(p - A)^2}{2m} + \\hbar \\bar{\\Omega}(x) (| + \\rangle \\langle + | - | - \\rangle \\langle - |)$ where $A = i \\hbar \\frac{\\Omega_p \\partial_x \\Omega_c(x)}{\\bar{\\Omega}(x)^2} (|\\tilde{B}\\rangle \\langle \\tilde{D} | - |\\tilde{D}\\rangle \\langle \\tilde{B} |)$\n",
    "\n",
    "We place ourselve in the low $p$ limit, where $p^2$, $Ap$ and $pA$ can be neglected compared to $A^2$ :"
   ]
  },
  {
   "cell_type": "code",
   "execution_count": 37,
   "id": "026c0b86",
   "metadata": {},
   "outputs": [],
   "source": [
    "#wp = 1\n",
    "#wc = lambda x: x\n",
    "#dx_wc = 1"
   ]
  },
  {
   "cell_type": "code",
   "execution_count": 38,
   "id": "fb376db1",
   "metadata": {},
   "outputs": [],
   "source": [
    "D = np.array([[1, 0, 0]]).T\n",
    "Plus = np.array([[0, 1, 0]]).T\n",
    "Minus = np.array([[0, 0, 1]]).T\n",
    "\n",
    "B = 1/np.sqrt(2) * (Plus + Minus)\n",
    "\n",
    "A = lambda x: 1j * wp * dx_wc(x, k, 1) / (wp**2 + wc(x, k, 1)**2) * (B@D.T - D@B.T)\n",
    "\n",
    "H = lambda x: A(x)@A(x) + (wp**2 + wc(x, k, 1)**2) * (Plus@Plus.T - Minus@Minus.T)\n"
   ]
  },
  {
   "cell_type": "code",
   "execution_count": 39,
   "id": "23110204",
   "metadata": {},
   "outputs": [],
   "source": [
    "x_array = np.linspace(-4, 4, 1000)\n",
    "\n",
    "eigvals = np.empty((len(x_array), 3), dtype=float)\n",
    "eigvects = np.empty((len(x_array), 3, 3), dtype=complex)\n",
    "for i, x in enumerate(x_array):\n",
    "    eigvals[i,...], eigvects[i,...] = np.linalg.eigh(H(x))\n",
    "    \n"
   ]
  },
  {
   "cell_type": "code",
   "execution_count": 40,
   "id": "f0eb70e6",
   "metadata": {},
   "outputs": [
    {
     "data": {
      "text/plain": [
       "<matplotlib.legend.Legend at 0x2c8d829a9d0>"
      ]
     },
     "execution_count": 40,
     "metadata": {},
     "output_type": "execute_result"
    },
    {
     "data": {
      "image/png": "[encoded data removed]",
      "text/plain": [
       "<Figure size 432x288 with 1 Axes>"
      ]
     },
     "metadata": {
      "needs_background": "light"
     },
     "output_type": "display_data"
    }
   ],
   "source": [
    "#plt.plot(x_array, np.square(np.abs(eigvects[:,0,1])))\n",
    "\n",
    "for i, state in enumerate([\"D\", \"+\", \"-\"]):\n",
    "    plt.plot(x_array, np.square(np.abs(eigvects[:, i, 1])), label=rf\"$ \\| \\langle$ {state} $| \\Psi_2 \\rangle \\| ^2$\")\n",
    "\n",
    "plt.title(r\"Projection of $\\Psi_2$ on each basis state vs position\")\n",
    "plt.legend()"
   ]
  },
  {
   "cell_type": "code",
   "execution_count": 47,
   "id": "5b38123b",
   "metadata": {},
   "outputs": [
    {
     "data": {
      "text/plain": [
       "Text(0, 0.5, '$E/E_R$')"
      ]
     },
     "execution_count": 47,
     "metadata": {},
     "output_type": "execute_result"
    },
    {
     "data": {
      "image/png": "[encoded data removed]",
      "text/plain": [
       "<Figure size 432x288 with 1 Axes>"
      ]
     },
     "metadata": {
      "needs_background": "light"
     },
     "output_type": "display_data"
    }
   ],
   "source": [
    "plt.plot(x_array, eigvals[:,1], label=rf\"$| ${state}$ \\rangle$\")\n",
    "plt.title(\"Energy of the dark state vs position\")\n",
    "plt.xlabel(r\"$k x$\")\n",
    "plt.ylabel(r\"$E/E_R$\")"
   ]
  },
  {
   "cell_type": "markdown",
   "id": "f136daee",
   "metadata": {},
   "source": [
    "We can see that the dark state remains an eigenstate of the hamiltonian, and it experiences an effective potential barrier."
   ]
  },
  {
   "cell_type": "markdown",
   "id": "984ca115",
   "metadata": {},
   "source": [
    "# Résolution de l’équation de Schrödinger pour $p \\neq 0$"
   ]
  },
  {
   "cell_type": "markdown",
   "id": "6731ac13",
   "metadata": {},
   "source": [
    "Résolution de l’équation de Schrodinger pour un potentiel harmonique"
   ]
  },
  {
   "cell_type": "code",
   "execution_count": 28,
   "id": "84d52c8b",
   "metadata": {},
   "outputs": [],
   "source": [
    "wp = 2\n",
    "wc = lambda x: 2 *x\n",
    "dx_wc = 1\n",
    "\n",
    "delta = 0\n",
    "Delta = 0\n",
    "\n",
    "wt = 1\n",
    "V_analytical = lambda x: 1/2 * wt**2 * x**2"
   ]
  },
  {
   "cell_type": "code",
   "execution_count": 29,
   "id": "4389d2f4",
   "metadata": {},
   "outputs": [
    {
     "ename": "NameError",
     "evalue": "name 'm' is not defined",
     "output_type": "error",
     "traceback": [
      "\u001b[1;31m---------------------------------------------------------------------------\u001b[0m",
      "\u001b[1;31mNameError\u001b[0m                                 Traceback (most recent call last)",
      "\u001b[1;32m~\\AppData\\Local\\Temp\\ipykernel_12440\\1513190657.py\u001b[0m in \u001b[0;36m<cell line: 14>\u001b[1;34m()\u001b[0m\n\u001b[0;32m     12\u001b[0m \u001b[0mp\u001b[0m \u001b[1;33m=\u001b[0m \u001b[0mblock_diag\u001b[0m\u001b[1;33m(\u001b[0m\u001b[0mp_ext\u001b[0m\u001b[1;33m,\u001b[0m \u001b[0mp_ext\u001b[0m\u001b[1;33m,\u001b[0m \u001b[0mp_ext\u001b[0m\u001b[1;33m)\u001b[0m\u001b[1;33m\u001b[0m\u001b[1;33m\u001b[0m\u001b[0m\n\u001b[0;32m     13\u001b[0m \u001b[1;33m\u001b[0m\u001b[0m\n\u001b[1;32m---> 14\u001b[1;33m K_ext = - hbar**2 / (2*m * delta_x**2) * (np.diag(-2*np.ones((N,), dtype=float), k=0)\n\u001b[0m\u001b[0;32m     15\u001b[0m                                           \u001b[1;33m+\u001b[0m \u001b[0mnp\u001b[0m\u001b[1;33m.\u001b[0m\u001b[0mdiag\u001b[0m\u001b[1;33m(\u001b[0m\u001b[0mnp\u001b[0m\u001b[1;33m.\u001b[0m\u001b[0mones\u001b[0m\u001b[1;33m(\u001b[0m\u001b[1;33m(\u001b[0m\u001b[0mN\u001b[0m\u001b[1;33m-\u001b[0m\u001b[1;36m1\u001b[0m\u001b[1;33m,\u001b[0m\u001b[1;33m)\u001b[0m\u001b[1;33m,\u001b[0m \u001b[0mdtype\u001b[0m\u001b[1;33m=\u001b[0m\u001b[0mfloat\u001b[0m\u001b[1;33m)\u001b[0m\u001b[1;33m,\u001b[0m \u001b[0mk\u001b[0m\u001b[1;33m=\u001b[0m\u001b[1;36m1\u001b[0m\u001b[1;33m)\u001b[0m\u001b[1;33m\u001b[0m\u001b[1;33m\u001b[0m\u001b[0m\n\u001b[0;32m     16\u001b[0m                                           + np.diag(np.ones((N-1,), dtype=float), k=-1))\n",
      "\u001b[1;31mNameError\u001b[0m: name 'm' is not defined"
     ]
    }
   ],
   "source": [
    "x_min = -4\n",
    "x_max = 4\n",
    "N = 400\n",
    "delta_x = (x_min - x_max)/(N-1)\n",
    "x_array = np.linspace(x_min, x_max, N)\n",
    "\n",
    "# for now m_e = 1 and hbar = 1\n",
    "\n",
    "p_ext = -1j * hbar / (2*delta_x) * (np.diag(np.ones((N-1,), dtype=float), k=1)\n",
    "                                - np.diag(np.ones((N-1,), dtype=float), k=-1))\n",
    "\n",
    "p = block_diag(p_ext, p_ext, p_ext)\n",
    "\n",
    "K_ext = - hbar**2 / (2*m * delta_x**2) * (np.diag(-2*np.ones((N,), dtype=float), k=0)\n",
    "                                          + np.diag(np.ones((N-1,), dtype=float), k=1)\n",
    "                                          + np.diag(np.ones((N-1,), dtype=float), k=-1))\n",
    "\n",
    "K = block_diag(K_ext, K_ext, K_ext)\n",
    "\n",
    "zeros =  np.zeros((N, N), dtype = complex)\n",
    "identity = np.eye(N, dtype = complex)\n",
    "wc_diag = np.diag([wc(x) for x in x_array])\n",
    "\n",
    "g1_g1 = block_diag(identity, zeros, zeros)\n",
    "\n",
    "g2_g2 = block_diag(zeros, identity, zeros)\n",
    "\n",
    "e_e = block_diag(zeros, zeros, identity)\n",
    "\n",
    "wc_over2_g1_e = np.block([[zeros, zeros, wc_diag],\n",
    "                          [zeros, zeros, zeros],\n",
    "                          [zeros, zeros, zeros]])\n",
    "\n",
    "wc_over2_e_g1 = wc_over2_g1_e.T\n",
    "\n",
    "g2_e = np.block([[zeros, identity, zeros],\n",
    "                 [zeros, zeros, zeros],\n",
    "                 [zeros, zeros, zeros]])\n",
    "\n",
    "U = delta/2 * (g2_g2 - g1_g1) + Delta * e_e + (wc_over2_g1_e + wc_over2_e_g1) + wp/2 * (g2_e + e_g2)\n",
    "\n",
    "V_ext = np.diag([V_analytical(x) for x in x_array])\n",
    "V = block_diag(V_ext, V_ext, V_ext)\n",
    "\n",
    "H = K + V + hbar*U"
   ]
  },
  {
   "cell_type": "code",
   "execution_count": null,
   "id": "a28ec579",
   "metadata": {},
   "outputs": [],
   "source": [
    "H.shape"
   ]
  },
  {
   "cell_type": "code",
   "execution_count": null,
   "id": "a1e78594",
   "metadata": {},
   "outputs": [],
   "source": [
    "eigvals, eigvects = eigh(H)"
   ]
  },
  {
   "cell_type": "code",
   "execution_count": null,
   "id": "6b3ca067",
   "metadata": {},
   "outputs": [],
   "source": [
    "for i in range(1):\n",
    "    plt.plot(x_array, np.diag(V_ext))\n",
    "    plt.plot(x_array, 100*(np.square(np.abs(eigvects[:N,i])) + np.square(np.abs(eigvects[N:2*N,i])) + np.square(np.abs(eigvects[2*N:,i]))) + eigvals[i])"
   ]
  },
  {
   "cell_type": "code",
   "execution_count": null,
   "id": "1d6f73e7",
   "metadata": {},
   "outputs": [],
   "source": [
    "matplotlib.rcsetup.interactive_bk"
   ]
  },
  {
   "cell_type": "code",
   "execution_count": null,
   "id": "e62e19c3",
   "metadata": {},
   "outputs": [],
   "source": []
  }
 ],
 "metadata": {
  "kernelspec": {
   "display_name": "Python 3 (ipykernel)",
   "language": "python",
   "name": "python3"
  },
  "language_info": {
   "codemirror_mode": {
    "name": "ipython",
    "version": 3
   },
   "file_extension": ".py",
   "mimetype": "text/x-python",
   "name": "python",
   "nbconvert_exporter": "python",
   "pygments_lexer": "ipython3",
   "version": "3.9.12"
  }
 },
 "nbformat": 4,
 "nbformat_minor": 5
}
